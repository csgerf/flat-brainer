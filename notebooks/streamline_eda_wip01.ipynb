{
 "cells": [
  {
   "cell_type": "markdown",
   "source": [
    "# Validating Streamlines"
   ],
   "metadata": {
    "collapsed": false
   }
  },
  {
   "cell_type": "markdown",
   "source": [
    "## Setup"
   ],
   "metadata": {
    "collapsed": false
   }
  },
  {
   "cell_type": "markdown",
   "source": [
    "### Imports"
   ],
   "metadata": {
    "collapsed": false
   }
  },
  {
   "cell_type": "code",
   "execution_count": 4,
   "metadata": {
    "collapsed": true,
    "ExecuteTime": {
     "end_time": "2023-06-29T20:35:10.050969800Z",
     "start_time": "2023-06-29T20:35:09.907287Z"
    }
   },
   "outputs": [],
   "source": [
    "import os\n",
    "from typing import List, Dict, Tuple, Any\n",
    "import time\n",
    "\n",
    "import numpy as np\n",
    "from dotenv import load_dotenv\n",
    "import nrrd\n",
    "import h5py\n",
    "import matplotlib.pyplot as plt\n",
    "from matplotlib.colors import ListedColormap\n",
    "\n",
    "from src.core.utils import fs\n",
    "from src.flatmap.utils.bridge import get_boundaries, get_isocortex_3d_projector, get_average_template_projection\n",
    "from src.flatmap.utils.read_ni_output import get_marker_points_from_xml\n",
    "from src.flatmap.ccf_streamlines.morphology import transform_coordinates_to_volume\n",
    "from src.flatmap.utils.nb_utils import get_projection_images_from_dict, setup_main_plot, plot_boundaries\n",
    "from src.flatmap.utils.nb_utils import expand_label_image, dilate_image, dilate_binary_image\n",
    "\n",
    "from src.flatmap import external_data_registry as data_registry"
   ]
  },
  {
   "cell_type": "code",
   "execution_count": 2,
   "outputs": [],
   "source": [
    "if load_dotenv() is False:\n",
    "    print(\"Failed to load .env file\")\n",
    "\n",
    "ALLEN_DATA_DIR = os.getenv(\"ALLEN_ATLAS_FILES\")\n",
    "\n",
    "if ALLEN_DATA_DIR is None:\n",
    "    print(\"Failed to load ALLEN_ATLAS_FILES from .env file\")"
   ],
   "metadata": {
    "collapsed": false,
    "ExecuteTime": {
     "end_time": "2023-06-29T20:28:00.040009300Z",
     "start_time": "2023-06-29T20:27:58.732979800Z"
    }
   }
  },
  {
   "cell_type": "code",
   "execution_count": 3,
   "outputs": [],
   "source": [
    "CORTEX_MASK_FILE = os.path.join(ALLEN_DATA_DIR, \"isocortex_mask_10.nrrd\")\n",
    "ANNOTATION_VOLUME_FILE = os.path.join(ALLEN_DATA_DIR, \"annotation_10.nrrd\")\n",
    "\n",
    "cortex_mask_volume, _ = nrrd.read(CORTEX_MASK_FILE)\n",
    "annotation_volume, _ = nrrd.read(ANNOTATION_VOLUME_FILE)"
   ],
   "metadata": {
    "collapsed": false,
    "ExecuteTime": {
     "end_time": "2023-06-29T20:33:45.553094400Z",
     "start_time": "2023-06-29T20:33:26.817497100Z"
    }
   }
  },
  {
   "cell_type": "code",
   "execution_count": null,
   "outputs": [],
   "source": [
    "def _load_and_sort_paths(surface_paths_file) -> Tuple[np.ndarray, np.ndarray]:\n",
    "    with h5py.File(surface_paths_file, \"r\") as path_f:\n",
    "        paths = path_f[\"paths\"][:]\n",
    "        volume_lookup_dset = path_f[\"volume lookup flat\"]\n",
    "        volume_shape = tuple(volume_lookup_dset.attrs[\"original shape\"])\n",
    "\n",
    "        # Select and order paths to match the projection.\n",
    "        # The view_lookup array contains the indices of the 2D view in the first\n",
    "        # column and indices of the (flattened) 3D volume in the second.\n",
    "        # We find the indices of the paths by going to the appropriate voxels\n",
    "        # in volume_lookup.\n",
    "        print(\"Sorting paths to match view lookup\")\n",
    "\n",
    "        view_sorter = np.argsort(view_lookup[:, 1])\n",
    "        view_unsorter = np.argsort(view_sorter)\n",
    "\n",
    "        # pull chunks from volume lookup to reduce memory usage\n",
    "        chunk_size = 1000\n",
    "        sorted_lookup = self.view_lookup[view_sorter, 1]\n",
    "        path_ind = np.zeros_like(sorted_lookup)\n",
    "        print(\"loading path information\")\n",
    "        for i in tqdm(range(0, sorted_lookup.shape[0], chunk_size)):\n",
    "            # track duplicate info\n",
    "            vals, counts = np.unique(sorted_lookup[i:i + chunk_size], return_counts=True)\n",
    "            arr = volume_lookup_dset[vals]\n",
    "            path_ind[i:i + chunk_size] = np.repeat(arr, counts)"
   ],
   "metadata": {
    "collapsed": false
   }
  },
  {
   "cell_type": "code",
   "execution_count": null,
   "outputs": [],
   "source": [
    "ISOCORTEX_LAYER_KEYS = [\n",
    "    'Isocortex layer 1',\n",
    "    'Isocortex layer 2/3',  # hilariously, this goes into a group in the h5 file\n",
    "    'Isocortex layer 4',\n",
    "    'Isocortex layer 5',\n",
    "    'Isocortex layer 6a',\n",
    "    'Isocortex layer 6b'\n",
    "]\n",
    "path_ordering_file = data_registry.get_streamline_path(\"surface_paths_10_v3\")\n",
    "streamline_layer_thickness_file = data_registry.get_isocortex_metric_path(\"cortical_layers_10_v2\")\n",
    "path_layer_thickness = {}\n",
    "with h5py.File(streamline_layer_thickness_file, \"r\") as f:\n",
    "    for k in ISOCORTEX_LAYER_KEYS:\n",
    "        path_layer_thickness[k] = f[k][:]\n",
    "\n",
    "        # Select and order paths to match the projection.\n",
    "        path_layer_thickness[k] = path_layer_thickness[k][path_ordering, :]"
   ],
   "metadata": {
    "collapsed": false
   }
  }
 ],
 "metadata": {
  "kernelspec": {
   "display_name": "Python 3",
   "language": "python",
   "name": "python3"
  },
  "language_info": {
   "codemirror_mode": {
    "name": "ipython",
    "version": 2
   },
   "file_extension": ".py",
   "mimetype": "text/x-python",
   "name": "python",
   "nbconvert_exporter": "python",
   "pygments_lexer": "ipython2",
   "version": "2.7.6"
  }
 },
 "nbformat": 4,
 "nbformat_minor": 0
}
