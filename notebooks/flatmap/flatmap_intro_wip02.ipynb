{
 "cells": [
  {
   "cell_type": "code",
   "execution_count": 6,
   "metadata": {
    "collapsed": true,
    "ExecuteTime": {
     "end_time": "2023-05-18T15:20:02.375219900Z",
     "start_time": "2023-05-18T15:20:01.525719600Z"
    }
   },
   "outputs": [],
   "source": [
    "import os\n",
    "from omegaconf import OmegaConf\n",
    "import cv2\n",
    "import numpy as np\n",
    "import matplotlib.pyplot as plt"
   ]
  },
  {
   "cell_type": "code",
   "execution_count": 4,
   "outputs": [],
   "source": [
    "CONFIG_FILE_PATH = \"../../configs/flatmap/flatmap_config.yaml\"\n",
    "conf = OmegaConf.load(CONFIG_FILE_PATH)\n",
    "DATA_DIR = os.path.join(conf.data_dir, \"ccf_streamlines\")"
   ],
   "metadata": {
    "collapsed": false,
    "ExecuteTime": {
     "end_time": "2023-05-18T15:16:37.484926500Z",
     "start_time": "2023-05-18T15:16:37.381429100Z"
    }
   }
  },
  {
   "cell_type": "code",
   "execution_count": 5,
   "outputs": [],
   "source": [
    "# import src.modules.flatmap as flatmap\n",
    "from src.modules.flatmap.ccf_streamlines import projection as ccf_proj\n",
    "# from flatmap.ccf_streamlines import projection as ccf_proj\n"
   ],
   "metadata": {
    "collapsed": false,
    "ExecuteTime": {
     "end_time": "2023-05-18T15:16:53.015553300Z",
     "start_time": "2023-05-18T15:16:51.137874400Z"
    }
   }
  },
  {
   "cell_type": "code",
   "execution_count": 25,
   "outputs": [
    {
     "ename": "ModuleNotFoundError",
     "evalue": "No module named 'flatmap'",
     "output_type": "error",
     "traceback": [
      "\u001B[1;31m---------------------------------------------------------------------------\u001B[0m",
      "\u001B[1;31mModuleNotFoundError\u001B[0m                       Traceback (most recent call last)",
      "Cell \u001B[1;32mIn[25], line 1\u001B[0m\n\u001B[1;32m----> 1\u001B[0m \u001B[38;5;28;01mimport\u001B[39;00m \u001B[38;5;21;01mflatmap\u001B[39;00m\u001B[38;5;21;01m.\u001B[39;00m\u001B[38;5;21;01mccf_streamlines\u001B[39;00m\u001B[38;5;21;01m.\u001B[39;00m\u001B[38;5;21;01mprojection\u001B[39;00m \u001B[38;5;28;01mas\u001B[39;00m \u001B[38;5;21;01mproj\u001B[39;00m\n",
      "\u001B[1;31mModuleNotFoundError\u001B[0m: No module named 'flatmap'"
     ]
    }
   ],
   "source": [],
   "metadata": {
    "collapsed": false,
    "ExecuteTime": {
     "end_time": "2023-05-18T15:06:03.797590700Z",
     "start_time": "2023-05-18T15:06:03.655091100Z"
    }
   }
  },
  {
   "cell_type": "code",
   "execution_count": 18,
   "outputs": [
    {
     "ename": "AttributeError",
     "evalue": "module 'src.modules.flatmap' has no attribute 'ccf_streamlines'",
     "output_type": "error",
     "traceback": [
      "\u001B[1;31m---------------------------------------------------------------------------\u001B[0m",
      "\u001B[1;31mAttributeError\u001B[0m                            Traceback (most recent call last)",
      "Cell \u001B[1;32mIn[18], line 1\u001B[0m\n\u001B[1;32m----> 1\u001B[0m proj \u001B[38;5;241m=\u001B[39m \u001B[43mflatmap\u001B[49m\u001B[38;5;241;43m.\u001B[39;49m\u001B[43mccf_streamlines\u001B[49m\u001B[38;5;241m.\u001B[39mprojection\u001B[38;5;241m.\u001B[39mIsocortex2dProjector\n",
      "\u001B[1;31mAttributeError\u001B[0m: module 'src.modules.flatmap' has no attribute 'ccf_streamlines'"
     ]
    }
   ],
   "source": [],
   "metadata": {
    "collapsed": false,
    "ExecuteTime": {
     "end_time": "2023-05-18T15:00:46.994960800Z",
     "start_time": "2023-05-18T15:00:46.905466400Z"
    }
   }
  }
 ],
 "metadata": {
  "kernelspec": {
   "display_name": "Python 3",
   "language": "python",
   "name": "python3"
  },
  "language_info": {
   "codemirror_mode": {
    "name": "ipython",
    "version": 2
   },
   "file_extension": ".py",
   "mimetype": "text/x-python",
   "name": "python",
   "nbconvert_exporter": "python",
   "pygments_lexer": "ipython2",
   "version": "2.7.6"
  }
 },
 "nbformat": 4,
 "nbformat_minor": 0
}
