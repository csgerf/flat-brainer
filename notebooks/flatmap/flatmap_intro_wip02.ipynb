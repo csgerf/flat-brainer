{
 "cells": [
  {
   "cell_type": "markdown",
   "metadata": {},
   "source": [
    "# Mapping Data Points Testing"
   ]
  },
  {
   "cell_type": "markdown",
   "metadata": {},
   "source": [
    "## Setup\n",
    "\n",
    "### Imports"
   ]
  },
  {
   "cell_type": "code",
   "execution_count": 7,
   "metadata": {
    "ExecuteTime": {
     "end_time": "2023-05-18T15:20:02.375219900Z",
     "start_time": "2023-05-18T15:20:01.525719600Z"
    },
    "collapsed": true
   },
   "outputs": [],
   "source": [
    "import os\n",
    "import sys\n",
    "from dotenv import load_dotenv\n",
    "import pprint\n",
    "\n",
    "import matplotlib\n",
    "import matplotlib.pyplot as plt\n",
    "import numpy as np\n",
    "import cv2\n",
    "import nrrd"
   ]
  },
  {
   "cell_type": "markdown",
   "metadata": {},
   "source": [
    "### Setup working directory"
   ]
  },
  {
   "cell_type": "code",
   "execution_count": 2,
   "metadata": {
    "ExecuteTime": {
     "end_time": "2023-05-18T15:16:37.484926500Z",
     "start_time": "2023-05-18T15:16:37.381429100Z"
    },
    "collapsed": false
   },
   "outputs": [
    {
     "name": "stdout",
     "output_type": "stream",
     "text": [
      "c:\\MBFDev\\dev\\csgerf\\flat-brainer\\notebooks\\flatmap\n",
      "C:\\MBFDev\\dev\\csgerf\\flat-brainer\n"
     ]
    }
   ],
   "source": [
    "load_dotenv()\n",
    "os.chdir(os.getenv(\"WORKING_DIR\")) # type: ignore\n",
    "sys.path.append(os.getcwd())"
   ]
  },
  {
   "cell_type": "code",
   "execution_count": 12,
   "metadata": {
    "ExecuteTime": {
     "end_time": "2023-05-18T15:16:53.015553300Z",
     "start_time": "2023-05-18T15:16:51.137874400Z"
    },
    "collapsed": false
   },
   "outputs": [
    {
     "name": "stdout",
     "output_type": "stream",
     "text": [
      "matplotlib version \t 3.7.1\n",
      "numpy version \t\t 1.24.3\n",
      "OpenCV version \t\t 4.7.0\n",
      "nrrd version \t\t 0.4.2\n"
     ]
    }
   ],
   "source": [
    "print(\"matplotlib version \\t\", matplotlib.__version__) # type: ignore\n",
    "print(\"numpy version \\t\\t\", np.__version__)\n",
    "print(\"OpenCV version \\t\\t\", cv2.__version__)\n",
    "print(\"nrrd version \\t\\t\", nrrd.__version__)"
   ]
  }
 ],
 "metadata": {
  "kernelspec": {
   "display_name": "Python 3",
   "language": "python",
   "name": "python3"
  },
  "language_info": {
   "codemirror_mode": {
    "name": "ipython",
    "version": 3
   },
   "file_extension": ".py",
   "mimetype": "text/x-python",
   "name": "python",
   "nbconvert_exporter": "python",
   "pygments_lexer": "ipython3",
   "version": "3.10.11"
  }
 },
 "nbformat": 4,
 "nbformat_minor": 0
}
