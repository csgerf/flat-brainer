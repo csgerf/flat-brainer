{
 "cells": [
  {
   "cell_type": "code",
   "execution_count": 12,
   "metadata": {
    "collapsed": true,
    "ExecuteTime": {
     "end_time": "2023-06-30T02:58:52.624788500Z",
     "start_time": "2023-06-30T02:58:52.415519800Z"
    }
   },
   "outputs": [],
   "source": [
    "import os\n",
    "from typing import List, Dict, Tuple, Any\n",
    "import time\n",
    "import json\n",
    "\n",
    "import numpy as np\n",
    "from dotenv import load_dotenv\n",
    "import nrrd\n",
    "import matplotlib.pyplot as plt\n",
    "from matplotlib.colors import ListedColormap\n",
    "\n",
    "from src.core.utils import fs\n",
    "from src.flatmap.utils.bridge import get_boundaries, get_isocortex_3d_projector, get_average_template_projection\n",
    "from src.flatmap.utils.read_ni_output import get_marker_points_from_xml\n",
    "from src.flatmap.ccf_streamlines.morphology import transform_coordinates_to_volume\n",
    "from src.flatmap.utils.nb_utils import get_projection_images_from_dict, setup_main_plot, plot_boundaries\n",
    "from src.flatmap.utils.nb_utils import expand_label_image, dilate_image, dilate_binary_image\n",
    "\n",
    "from src.flatmap.ccf_streamlines.projection import IsocortexCoordinateProjector\n",
    "from src.flatmap import external_data_registry as data_registry"
   ]
  },
  {
   "cell_type": "code",
   "execution_count": 2,
   "outputs": [],
   "source": [
    "if load_dotenv() is False:\n",
    "    print(\"Failed to load .env file\")\n",
    "\n",
    "EXPERIMENT_DATA_DIR = os.getenv(\"CASE_FILE_DATA_DIR\")\n",
    "if EXPERIMENT_DATA_DIR is None:\n",
    "    print(\"Failed to load CASE_FILE_DATA_DIR from .env file\")\n",
    "\n",
    "example_case_file_dir = os.path.join(EXPERIMENT_DATA_DIR, \"working\")\n",
    "case_files = fs.find_in_dir_with_ext(example_case_file_dir, \".xml\")\n",
    "if len(case_files) == 0:\n",
    "    print(\"No case files found in directory\")\n",
    "\n",
    "CASE_FILE_PATH = case_files[0]\n",
    "ALLEN_DATA_DIR = os.getenv(\"ALLEN_ATLAS_FILES\")\n",
    "\n",
    "if ALLEN_DATA_DIR is None:\n",
    "    print(\"Failed to load ALLEN_ATLAS_FILES from .env file\")\n",
    "\n",
    "ALLEN_ANNOTATION_PATH = os.path.join(ALLEN_DATA_DIR, \"annotation_10.nrrd\")\n",
    "\n",
    "if os.path.exists(ALLEN_ANNOTATION_PATH) is False: \\\n",
    "        print(f\"Failed to find allen annotation file: {ALLEN_ANNOTATION_PATH}\")"
   ],
   "metadata": {
    "collapsed": false,
    "ExecuteTime": {
     "end_time": "2023-06-30T02:33:41.803575700Z",
     "start_time": "2023-06-30T02:33:41.564508Z"
    }
   }
  },
  {
   "cell_type": "code",
   "execution_count": 4,
   "outputs": [
    {
     "name": "stdout",
     "output_type": "stream",
     "text": [
      "Case file path: D:/data/neuro/flatmap/experiments\\working\\2000_ChAT_rabies 6cases Cortex.xml\n",
      "Allen annotation path: D:/data/neuro/Allen\\annotation_10.nrrd\n"
     ]
    }
   ],
   "source": [
    "print(f\"Case file path: {CASE_FILE_PATH}\")\n",
    "print(f\"Allen annotation path: {ALLEN_ANNOTATION_PATH}\")"
   ],
   "metadata": {
    "collapsed": false,
    "ExecuteTime": {
     "end_time": "2023-06-30T02:35:14.413143Z",
     "start_time": "2023-06-30T02:35:14.189222Z"
    }
   }
  },
  {
   "cell_type": "code",
   "execution_count": 13,
   "outputs": [],
   "source": [
    "view_space_for_other_hemisphere = \"flatmap_butterfly\"\n",
    "view_lookup_file = \"flatmap_butterfly\"\n",
    "\n",
    "surface_paths_file = data_registry.get_streamline_path(\"surface_paths_10_v3\")\n",
    "closest_surface_voxel_reference_file = data_registry.get_streamline_path(\"closest_surface_voxel_lookup\")\n",
    "streamline_layer_thickness_file = data_registry.get_isocortex_metric_path(\"cortical_layers_10_v2\")\n",
    "view_lookup_file = data_registry.get_view_lookup_file_path(view_lookup_file)\n",
    "layer_depth_file = data_registry.get_isocortex_metric_path(\"avg_layer_depths\")\n",
    "\n",
    "with open(layer_depth_file, \"r\") as f:\n",
    "    layer_tops = json.load(f)\n",
    "\n",
    "layer_thicknesses = {\n",
    "    \"Isocortex layer 1\": layer_tops[\"2/3\"],\n",
    "    \"Isocortex layer 2/3\": layer_tops[\"4\"] - layer_tops[\"2/3\"],\n",
    "    \"Isocortex layer 4\": layer_tops[\"5\"] - layer_tops[\"4\"],\n",
    "    \"Isocortex layer 5\": layer_tops[\"6a\"] - layer_tops[\"5\"],\n",
    "    \"Isocortex layer 6a\": layer_tops[\"6b\"] - layer_tops[\"6a\"],\n",
    "    \"Isocortex layer 6b\": layer_tops[\"wm\"] - layer_tops[\"6b\"],\n",
    "}\n",
    "\n",
    "proj_butterfly_slab = IsocortexCoordinateProjector(\n",
    "    surface_paths_file=surface_paths_file,\n",
    "    closest_surface_voxel_reference_file=closest_surface_voxel_reference_file,\n",
    "    layer_thicknesses=None,\n",
    "    streamline_layer_thickness_file=streamline_layer_thickness_file,\n",
    "    resolution=(10, 10, 10),\n",
    "    projection_file=view_lookup_file)"
   ],
   "metadata": {
    "collapsed": false,
    "ExecuteTime": {
     "end_time": "2023-06-30T02:59:54.990418400Z",
     "start_time": "2023-06-30T02:59:41.364062500Z"
    }
   }
  },
  {
   "cell_type": "code",
   "execution_count": 6,
   "outputs": [
    {
     "name": "stdout",
     "output_type": "stream",
     "text": [
      "loading path information\n"
     ]
    },
    {
     "name": "stderr",
     "output_type": "stream",
     "text": [
      "100%|██████████| 1016/1016 [00:12<00:00, 80.95it/s] \n"
     ]
    }
   ],
   "source": [
    "bf_left_boundaries, bf_right_boundaries = get_boundaries(view_lookup_file=view_lookup_file,\n",
    "                                                         view_space_for_other_hemisphere=view_space_for_other_hemisphere)\n",
    "bf_projection_max = get_average_template_projection()"
   ],
   "metadata": {
    "collapsed": false,
    "ExecuteTime": {
     "end_time": "2023-06-30T02:43:21.933790Z",
     "start_time": "2023-06-30T02:42:11.786315500Z"
    }
   }
  },
  {
   "cell_type": "code",
   "execution_count": 7,
   "outputs": [],
   "source": [
    "marker_points = get_marker_points_from_xml(CASE_FILE_PATH)"
   ],
   "metadata": {
    "collapsed": false,
    "ExecuteTime": {
     "end_time": "2023-06-30T02:44:07.285066700Z",
     "start_time": "2023-06-30T02:44:07.045857900Z"
    }
   }
  },
  {
   "cell_type": "markdown",
   "source": [],
   "metadata": {
    "collapsed": false
   }
  },
  {
   "cell_type": "code",
   "execution_count": 19,
   "outputs": [
    {
     "name": "stdout",
     "output_type": "stream",
     "text": [
      "loading path information\n"
     ]
    },
    {
     "name": "stderr",
     "output_type": "stream",
     "text": [
      "100%|██████████| 1/1 [00:00<00:00, 1000.31it/s]\n"
     ]
    },
    {
     "name": "stdout",
     "output_type": "stream",
     "text": [
      "loading path information\n"
     ]
    },
    {
     "name": "stderr",
     "output_type": "stream",
     "text": [
      "100%|██████████| 1/1 [00:00<00:00, 1000.31it/s]"
     ]
    },
    {
     "name": "stdout",
     "output_type": "stream",
     "text": [
      "Finished in 2.1654 seconds\n"
     ]
    },
    {
     "name": "stderr",
     "output_type": "stream",
     "text": [
      "\n"
     ]
    },
    {
     "name": "stdout",
     "output_type": "stream",
     "text": [
      "loading path information\n"
     ]
    },
    {
     "name": "stderr",
     "output_type": "stream",
     "text": [
      "100%|██████████| 1/1 [00:00<00:00, 499.92it/s]\n"
     ]
    },
    {
     "name": "stdout",
     "output_type": "stream",
     "text": [
      "loading path information\n"
     ]
    },
    {
     "name": "stderr",
     "output_type": "stream",
     "text": [
      "100%|██████████| 1/1 [00:00<00:00, 999.83it/s]"
     ]
    },
    {
     "name": "stdout",
     "output_type": "stream",
     "text": [
      "Finished in 2.0618 seconds\n"
     ]
    },
    {
     "name": "stderr",
     "output_type": "stream",
     "text": [
      "\n"
     ]
    },
    {
     "name": "stdout",
     "output_type": "stream",
     "text": [
      "loading path information\n"
     ]
    },
    {
     "name": "stderr",
     "output_type": "stream",
     "text": [
      "100%|██████████| 1/1 [00:00<00:00, 1166.70it/s]\n"
     ]
    },
    {
     "name": "stdout",
     "output_type": "stream",
     "text": [
      "loading path information\n"
     ]
    },
    {
     "name": "stderr",
     "output_type": "stream",
     "text": [
      "100%|██████████| 1/1 [00:00<00:00, 1011.65it/s]"
     ]
    },
    {
     "name": "stdout",
     "output_type": "stream",
     "text": [
      "Finished in 2.0961 seconds\n"
     ]
    },
    {
     "name": "stderr",
     "output_type": "stream",
     "text": [
      "\n"
     ]
    },
    {
     "name": "stdout",
     "output_type": "stream",
     "text": [
      "loading path information\n"
     ]
    },
    {
     "name": "stderr",
     "output_type": "stream",
     "text": [
      "100%|██████████| 1/1 [00:00<00:00, 500.22it/s]\n"
     ]
    },
    {
     "name": "stdout",
     "output_type": "stream",
     "text": [
      "loading path information\n"
     ]
    },
    {
     "name": "stderr",
     "output_type": "stream",
     "text": [
      "100%|██████████| 1/1 [00:00<00:00, 1000.07it/s]"
     ]
    },
    {
     "name": "stdout",
     "output_type": "stream",
     "text": [
      "Finished in 2.0751 seconds\n"
     ]
    },
    {
     "name": "stderr",
     "output_type": "stream",
     "text": [
      "\n"
     ]
    },
    {
     "name": "stdout",
     "output_type": "stream",
     "text": [
      "loading path information\n"
     ]
    },
    {
     "name": "stderr",
     "output_type": "stream",
     "text": [
      "100%|██████████| 1/1 [00:00<00:00, 500.33it/s]\n"
     ]
    },
    {
     "name": "stdout",
     "output_type": "stream",
     "text": [
      "loading path information\n"
     ]
    },
    {
     "name": "stderr",
     "output_type": "stream",
     "text": [
      "100%|██████████| 1/1 [00:00<00:00, 1000.55it/s]"
     ]
    },
    {
     "name": "stdout",
     "output_type": "stream",
     "text": [
      "Finished in 2.0752 seconds\n"
     ]
    },
    {
     "name": "stderr",
     "output_type": "stream",
     "text": [
      "\n"
     ]
    },
    {
     "name": "stdout",
     "output_type": "stream",
     "text": [
      "loading path information\n"
     ]
    },
    {
     "name": "stderr",
     "output_type": "stream",
     "text": [
      "100%|██████████| 1/1 [00:00<00:00, 999.12it/s]\n"
     ]
    },
    {
     "name": "stdout",
     "output_type": "stream",
     "text": [
      "loading path information\n"
     ]
    },
    {
     "name": "stderr",
     "output_type": "stream",
     "text": [
      "100%|██████████| 1/1 [00:00<00:00, 999.36it/s]"
     ]
    },
    {
     "name": "stdout",
     "output_type": "stream",
     "text": [
      "Finished in 2.0528 seconds\n"
     ]
    },
    {
     "name": "stderr",
     "output_type": "stream",
     "text": [
      "\n"
     ]
    }
   ],
   "source": [
    "morphological_list = []\n",
    "names = marker_points.keys()\n",
    "factor_values = (-10, -10, 10)\n",
    "scale: str = \"voxels\"\n",
    "thickness_type: str = \"unnormalized\"\n",
    "# thickness_type: str = \"normalized_full\"\n",
    "# thickness_type: str = \"normalized_layers\"\n",
    "hemisphere: str = \"both\"\n",
    "view_space_for_other_hemisphere: bool = False,\n",
    "drop_voxels_outside_view_streamlines: bool = False\n",
    "\n",
    "for i, points in enumerate(marker_points.values()):\n",
    "    tic = time.perf_counter()\n",
    "\n",
    "    points_vals_copy = points.copy()\n",
    "\n",
    "    points_vals_copy = np.floor(points_vals_copy / factor_values).astype(int)\n",
    "    points_vals = points_vals_copy.copy()\n",
    "    points_vals[:, 0] = points_vals_copy[:, 2]\n",
    "    points_vals[:, 1] = points_vals_copy[:, 1]\n",
    "    points_vals[:, 2] = points_vals_copy[:, 0]\n",
    "\n",
    "    morph_layers= proj_butterfly_slab.project_coordinates(\n",
    "        coords=points_vals,\n",
    "        scale=scale,\n",
    "        thickness_type=thickness_type,\n",
    "        hemisphere = hemisphere,\n",
    "        view_space_for_other_hemisphere=view_space_for_other_hemisphere,\n",
    "        drop_voxels_outside_view_streamlines=drop_voxels_outside_view_streamlines)\n",
    "\n",
    "    morphological_list.append(morph_layers)\n",
    "    toc = time.perf_counter()\n",
    "    print(f\"Finished in {toc - tic:0.4f} seconds\")"
   ],
   "metadata": {
    "collapsed": false,
    "ExecuteTime": {
     "end_time": "2023-06-30T03:05:20.157679900Z",
     "start_time": "2023-06-30T03:05:07.458069Z"
    }
   }
  },
  {
   "cell_type": "code",
   "execution_count": 17,
   "outputs": [],
   "source": [
    "def create_label_images(image_list: List[np.ndarray]):\n",
    "    label_image = None\n",
    "    for i, image in enumerate(image_list):\n",
    "        main_max = image.max(axis=2).T\n",
    "        if label_image is None:\n",
    "            label_image = np.zeros_like(main_max)\n",
    "        # main_max = dilate_image_binary(main_max, radius= 3)\n",
    "        label_image[main_max > 0] += i + 1\n",
    "        print(np.count_nonzero(main_max))\n",
    "\n",
    "    return label_image\n",
    "\n",
    "\n",
    "def create_top_left_images(image_list: List[np.ndarray]):\n",
    "    top_image = None\n",
    "    left_image = None\n",
    "    for i, image in enumerate(image_list):\n",
    "        top_max = image.max(axis=1).T\n",
    "        left_max = image.max(axis=0)\n",
    "        if top_image is None:\n",
    "            top_image = np.zeros_like(top_max)\n",
    "            left_image = np.zeros_like(left_max)\n",
    "        top_image[top_max > 0] = i + 1\n",
    "        left_image[left_max > 0] = i + 1\n",
    "\n",
    "    return {\"left\": left_image,\"top\": top_image}"
   ],
   "metadata": {
    "collapsed": false,
    "ExecuteTime": {
     "end_time": "2023-06-30T03:04:14.615943500Z",
     "start_time": "2023-06-30T03:04:14.463612700Z"
    }
   }
  },
  {
   "cell_type": "code",
   "execution_count": 18,
   "outputs": [
    {
     "ename": "AxisError",
     "evalue": "axis 2 is out of bounds for array of dimension 2",
     "output_type": "error",
     "traceback": [
      "\u001B[1;31m---------------------------------------------------------------------------\u001B[0m",
      "\u001B[1;31mAxisError\u001B[0m                                 Traceback (most recent call last)",
      "File \u001B[1;32m<timed exec>:2\u001B[0m\n",
      "Cell \u001B[1;32mIn[17], line 4\u001B[0m, in \u001B[0;36mcreate_label_images\u001B[1;34m(image_list)\u001B[0m\n\u001B[0;32m      2\u001B[0m label_image \u001B[38;5;241m=\u001B[39m \u001B[38;5;28;01mNone\u001B[39;00m\n\u001B[0;32m      3\u001B[0m \u001B[38;5;28;01mfor\u001B[39;00m i, image \u001B[38;5;129;01min\u001B[39;00m \u001B[38;5;28menumerate\u001B[39m(image_list):\n\u001B[1;32m----> 4\u001B[0m     main_max \u001B[38;5;241m=\u001B[39m \u001B[43mimage\u001B[49m\u001B[38;5;241;43m.\u001B[39;49m\u001B[43mmax\u001B[49m\u001B[43m(\u001B[49m\u001B[43maxis\u001B[49m\u001B[38;5;241;43m=\u001B[39;49m\u001B[38;5;241;43m2\u001B[39;49m\u001B[43m)\u001B[49m\u001B[38;5;241m.\u001B[39mT\n\u001B[0;32m      5\u001B[0m     \u001B[38;5;28;01mif\u001B[39;00m label_image \u001B[38;5;129;01mis\u001B[39;00m \u001B[38;5;28;01mNone\u001B[39;00m:\n\u001B[0;32m      6\u001B[0m         label_image \u001B[38;5;241m=\u001B[39m np\u001B[38;5;241m.\u001B[39mzeros_like(main_max)\n",
      "File \u001B[1;32m~\\miniconda3\\envs\\gaze\\lib\\site-packages\\numpy\\core\\_methods.py:41\u001B[0m, in \u001B[0;36m_amax\u001B[1;34m(a, axis, out, keepdims, initial, where)\u001B[0m\n\u001B[0;32m     39\u001B[0m \u001B[38;5;28;01mdef\u001B[39;00m \u001B[38;5;21m_amax\u001B[39m(a, axis\u001B[38;5;241m=\u001B[39m\u001B[38;5;28;01mNone\u001B[39;00m, out\u001B[38;5;241m=\u001B[39m\u001B[38;5;28;01mNone\u001B[39;00m, keepdims\u001B[38;5;241m=\u001B[39m\u001B[38;5;28;01mFalse\u001B[39;00m,\n\u001B[0;32m     40\u001B[0m           initial\u001B[38;5;241m=\u001B[39m_NoValue, where\u001B[38;5;241m=\u001B[39m\u001B[38;5;28;01mTrue\u001B[39;00m):\n\u001B[1;32m---> 41\u001B[0m     \u001B[38;5;28;01mreturn\u001B[39;00m \u001B[43mumr_maximum\u001B[49m\u001B[43m(\u001B[49m\u001B[43ma\u001B[49m\u001B[43m,\u001B[49m\u001B[43m \u001B[49m\u001B[43maxis\u001B[49m\u001B[43m,\u001B[49m\u001B[43m \u001B[49m\u001B[38;5;28;43;01mNone\u001B[39;49;00m\u001B[43m,\u001B[49m\u001B[43m \u001B[49m\u001B[43mout\u001B[49m\u001B[43m,\u001B[49m\u001B[43m \u001B[49m\u001B[43mkeepdims\u001B[49m\u001B[43m,\u001B[49m\u001B[43m \u001B[49m\u001B[43minitial\u001B[49m\u001B[43m,\u001B[49m\u001B[43m \u001B[49m\u001B[43mwhere\u001B[49m\u001B[43m)\u001B[49m\n",
      "\u001B[1;31mAxisError\u001B[0m: axis 2 is out of bounds for array of dimension 2"
     ]
    }
   ],
   "source": [
    "%%time\n",
    "# morphological_list = morphological_dict[\"unnormalized\"] # unnormalized, normalized_layers, normalized_full\n",
    "label_image = create_label_images(morphological_list)\n",
    "top_left_images = create_top_left_images(morphological_list)\n",
    "top_image = np.fliplr(top_left_images[\"top\"])\n",
    "left_image = top_left_images[\"left\"]\n",
    "\n",
    "plt.style.use('dark_background')\n",
    "label_cmap = ListedColormap(['black', 'green', 'red', 'blue', 'orange', 'yellow', 'purple', 'pink', 'cyan', 'brown', 'white'])\n",
    "\n",
    "fig, axes = setup_main_plot()\n",
    "axes = plot_boundaries(axes, bf_left_boundaries, bf_right_boundaries)\n",
    "color_map_template = \"Greys_r\"\n",
    "color_map = \"Dark2_r\"\n",
    "\n",
    "dilated_image = label_image.copy()\n",
    "mid_point = dilated_image.shape[1] // 2\n",
    "end_point = dilated_image.shape[1]\n",
    "dilated_image[:, 0:mid_point] = expand_label_image(dilated_image[:, 0:mid_point], 6)\n",
    "dilated_image[:, mid_point:end_point] = expand_label_image(dilated_image[:, mid_point:end_point], 3)\n",
    "dilated_image = np.fliplr(dilated_image)\n",
    "\n",
    "axes[1, 1].imshow(bf_projection_max.T, cmap=color_map_template, alpha=1.0, interpolation=None)\n",
    "ax = axes[1, 1].imshow(dilated_image, cmap=label_cmap, alpha=0.5, interpolation=None)\n",
    "\n",
    "axes[0, 1].imshow(top_image, cmap=label_cmap, alpha=1.0, interpolation=None)\n",
    "axes[1, 0].imshow(left_image, cmap=label_cmap, alpha=1.0, interpolation=None)"
   ],
   "metadata": {
    "collapsed": false,
    "ExecuteTime": {
     "end_time": "2023-06-30T03:04:34.437903900Z",
     "start_time": "2023-06-30T03:04:34.124422400Z"
    }
   }
  },
  {
   "cell_type": "markdown",
   "source": [],
   "metadata": {
    "collapsed": false
   }
  }
 ],
 "metadata": {
  "kernelspec": {
   "display_name": "Python 3",
   "language": "python",
   "name": "python3"
  },
  "language_info": {
   "codemirror_mode": {
    "name": "ipython",
    "version": 2
   },
   "file_extension": ".py",
   "mimetype": "text/x-python",
   "name": "python",
   "nbconvert_exporter": "python",
   "pygments_lexer": "ipython2",
   "version": "2.7.6"
  }
 },
 "nbformat": 4,
 "nbformat_minor": 0
}
