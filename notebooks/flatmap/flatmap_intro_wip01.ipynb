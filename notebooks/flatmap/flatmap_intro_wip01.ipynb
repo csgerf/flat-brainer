{
 "cells": [
  {
   "cell_type": "code",
   "execution_count": 9,
   "metadata": {
    "collapsed": true,
    "ExecuteTime": {
     "end_time": "2023-05-18T14:20:02.593177700Z",
     "start_time": "2023-05-18T14:20:02.517180100Z"
    }
   },
   "outputs": [],
   "source": [
    "from omegaconf import OmegaConf\n",
    "from dataclasses import dataclass"
   ]
  },
  {
   "cell_type": "code",
   "execution_count": 5,
   "outputs": [],
   "source": [
    "CONFIG_FILE_PATH = \"../../configs/flatmap/flatmap_config.yaml\""
   ],
   "metadata": {
    "collapsed": false,
    "ExecuteTime": {
     "end_time": "2023-05-18T14:09:04.289293700Z",
     "start_time": "2023-05-18T14:09:04.224795100Z"
    }
   }
  },
  {
   "cell_type": "code",
   "execution_count": 6,
   "outputs": [],
   "source": [
    "conf = OmegaConf.load(CONFIG_FILE_PATH)"
   ],
   "metadata": {
    "collapsed": false,
    "ExecuteTime": {
     "end_time": "2023-05-18T14:09:06.500449900Z",
     "start_time": "2023-05-18T14:09:06.439950400Z"
    }
   }
  },
  {
   "cell_type": "code",
   "execution_count": 7,
   "outputs": [
    {
     "name": "stdout",
     "output_type": "stream",
     "text": [
      "D:\\data\\neuro\\Allen\n"
     ]
    }
   ],
   "source": [
    "print(conf.data_dir)"
   ],
   "metadata": {
    "collapsed": false,
    "ExecuteTime": {
     "end_time": "2023-05-18T14:09:38.782552300Z",
     "start_time": "2023-05-18T14:09:38.714553500Z"
    }
   }
  },
  {
   "cell_type": "code",
   "execution_count": 10,
   "outputs": [],
   "source": [
    "@dataclass\n",
    "class FlatMapConfig:\n",
    "    data_dir: str\n",
    "    experiment_data_dir: str\n"
   ],
   "metadata": {
    "collapsed": false,
    "ExecuteTime": {
     "end_time": "2023-05-18T14:20:04.084888600Z",
     "start_time": "2023-05-18T14:20:03.997861900Z"
    }
   }
  },
  {
   "cell_type": "code",
   "execution_count": 11,
   "outputs": [
    {
     "data": {
      "text/plain": "{'data_dir': 'D:\\\\data\\\\neuro\\\\Allen', 'experiment_data_dir': 'D:\\\\data\\\\neuro\\\\Allen\\\\experiment_data'}"
     },
     "execution_count": 11,
     "metadata": {},
     "output_type": "execute_result"
    }
   ],
   "source": [
    "schema = OmegaConf.structured(FlatMapConfig)\n",
    "OmegaConf.merge(schema, conf)"
   ],
   "metadata": {
    "collapsed": false,
    "ExecuteTime": {
     "end_time": "2023-05-18T14:22:55.465117800Z",
     "start_time": "2023-05-18T14:22:55.369617600Z"
    }
   }
  },
  {
   "cell_type": "code",
   "execution_count": null,
   "outputs": [],
   "source": [],
   "metadata": {
    "collapsed": false
   }
  }
 ],
 "metadata": {
  "kernelspec": {
   "display_name": "Python 3",
   "language": "python",
   "name": "python3"
  },
  "language_info": {
   "codemirror_mode": {
    "name": "ipython",
    "version": 2
   },
   "file_extension": ".py",
   "mimetype": "text/x-python",
   "name": "python",
   "nbconvert_exporter": "python",
   "pygments_lexer": "ipython2",
   "version": "2.7.6"
  }
 },
 "nbformat": 4,
 "nbformat_minor": 0
}
