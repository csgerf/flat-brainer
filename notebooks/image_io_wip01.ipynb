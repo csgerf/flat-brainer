{
 "cells": [
  {
   "cell_type": "code",
   "execution_count": 1,
   "metadata": {
    "collapsed": true,
    "ExecuteTime": {
     "end_time": "2023-05-15T15:28:07.656050300Z",
     "start_time": "2023-05-15T15:28:07.649549Z"
    }
   },
   "outputs": [],
   "source": [
    "import sys\n",
    "working_dir = \"C:\\\\dev\\\\working\\\\cv-train\"\n",
    "sys.path.append(working_dir)"
   ]
  },
  {
   "cell_type": "code",
   "execution_count": 2,
   "outputs": [],
   "source": [
    "from src.core.imaging.io import read_file\n",
    "from src.core.utils.visualization import visualize"
   ],
   "metadata": {
    "collapsed": false,
    "ExecuteTime": {
     "end_time": "2023-05-15T15:31:36.000158300Z",
     "start_time": "2023-05-15T15:31:32.331155500Z"
    }
   }
  },
  {
   "cell_type": "code",
   "execution_count": 3,
   "outputs": [],
   "source": [
    "FILE_PATH = \"C:\\\\dev\\\\working\\\\cv-train\\\\docs\\\\assets\\\\LossOverview.png\""
   ],
   "metadata": {
    "collapsed": false,
    "ExecuteTime": {
     "end_time": "2023-05-15T15:32:54.364945400Z",
     "start_time": "2023-05-15T15:32:54.321941500Z"
    }
   }
  },
  {
   "cell_type": "code",
   "execution_count": 4,
   "outputs": [
    {
     "ename": "AttributeError",
     "evalue": "'_OpNamespace' 'image' object has no attribute 'read_file'",
     "output_type": "error",
     "traceback": [
      "\u001B[1;31m---------------------------------------------------------------------------\u001B[0m",
      "\u001B[1;31mRuntimeError\u001B[0m                              Traceback (most recent call last)",
      "File \u001B[1;32m~\\miniconda3\\envs\\spoon\\lib\\site-packages\\torch\\_ops.py:565\u001B[0m, in \u001B[0;36m_OpNamespace.__getattr__\u001B[1;34m(self, op_name)\u001B[0m\n\u001B[0;32m    564\u001B[0m \u001B[38;5;28;01mtry\u001B[39;00m:\n\u001B[1;32m--> 565\u001B[0m     op, overload_names \u001B[38;5;241m=\u001B[39m \u001B[43mtorch\u001B[49m\u001B[38;5;241;43m.\u001B[39;49m\u001B[43m_C\u001B[49m\u001B[38;5;241;43m.\u001B[39;49m\u001B[43m_jit_get_operation\u001B[49m\u001B[43m(\u001B[49m\u001B[43mqualified_op_name\u001B[49m\u001B[43m)\u001B[49m\n\u001B[0;32m    566\u001B[0m \u001B[38;5;28;01mexcept\u001B[39;00m \u001B[38;5;167;01mRuntimeError\u001B[39;00m \u001B[38;5;28;01mas\u001B[39;00m e:\n\u001B[0;32m    567\u001B[0m     \u001B[38;5;66;03m# Turn this into AttributeError so getattr(obj, key, default)\u001B[39;00m\n\u001B[0;32m    568\u001B[0m     \u001B[38;5;66;03m# works (this is called by TorchScript with __origin__)\u001B[39;00m\n",
      "\u001B[1;31mRuntimeError\u001B[0m: No such operator image::read_file",
      "\nThe above exception was the direct cause of the following exception:\n",
      "\u001B[1;31mAttributeError\u001B[0m                            Traceback (most recent call last)",
      "Cell \u001B[1;32mIn[4], line 1\u001B[0m\n\u001B[1;32m----> 1\u001B[0m image \u001B[38;5;241m=\u001B[39m \u001B[43mread_file\u001B[49m\u001B[43m(\u001B[49m\u001B[43mFILE_PATH\u001B[49m\u001B[43m)\u001B[49m\n\u001B[0;32m      2\u001B[0m visualize(image)\n",
      "File \u001B[1;32mC:\\dev\\working\\cv-train\\src\\core\\imaging\\io.py:36\u001B[0m, in \u001B[0;36mread_file\u001B[1;34m(path)\u001B[0m\n\u001B[0;32m     24\u001B[0m \u001B[38;5;250m\u001B[39m\u001B[38;5;124;03m\"\"\"\u001B[39;00m\n\u001B[0;32m     25\u001B[0m \u001B[38;5;124;03mReads and outputs the bytes contents of a file as a uint8 Tensor\u001B[39;00m\n\u001B[0;32m     26\u001B[0m \u001B[38;5;124;03mwith one dimension.\u001B[39;00m\n\u001B[1;32m   (...)\u001B[0m\n\u001B[0;32m     32\u001B[0m \u001B[38;5;124;03m    data (Tensor)\u001B[39;00m\n\u001B[0;32m     33\u001B[0m \u001B[38;5;124;03m\"\"\"\u001B[39;00m\n\u001B[0;32m     34\u001B[0m \u001B[38;5;66;03m# if not torch.jit.is_scripting() and not torch.jit.is_tracing():\u001B[39;00m\n\u001B[0;32m     35\u001B[0m \u001B[38;5;66;03m#     _log_api_usage_once(read_file)\u001B[39;00m\n\u001B[1;32m---> 36\u001B[0m data \u001B[38;5;241m=\u001B[39m \u001B[43mtorch\u001B[49m\u001B[38;5;241;43m.\u001B[39;49m\u001B[43mops\u001B[49m\u001B[38;5;241;43m.\u001B[39;49m\u001B[43mimage\u001B[49m\u001B[38;5;241;43m.\u001B[39;49m\u001B[43mread_file\u001B[49m(path)\n\u001B[0;32m     37\u001B[0m \u001B[38;5;28;01mreturn\u001B[39;00m data\n",
      "File \u001B[1;32m~\\miniconda3\\envs\\spoon\\lib\\site-packages\\torch\\_ops.py:569\u001B[0m, in \u001B[0;36m_OpNamespace.__getattr__\u001B[1;34m(self, op_name)\u001B[0m\n\u001B[0;32m    565\u001B[0m     op, overload_names \u001B[38;5;241m=\u001B[39m torch\u001B[38;5;241m.\u001B[39m_C\u001B[38;5;241m.\u001B[39m_jit_get_operation(qualified_op_name)\n\u001B[0;32m    566\u001B[0m \u001B[38;5;28;01mexcept\u001B[39;00m \u001B[38;5;167;01mRuntimeError\u001B[39;00m \u001B[38;5;28;01mas\u001B[39;00m e:\n\u001B[0;32m    567\u001B[0m     \u001B[38;5;66;03m# Turn this into AttributeError so getattr(obj, key, default)\u001B[39;00m\n\u001B[0;32m    568\u001B[0m     \u001B[38;5;66;03m# works (this is called by TorchScript with __origin__)\u001B[39;00m\n\u001B[1;32m--> 569\u001B[0m     \u001B[38;5;28;01mraise\u001B[39;00m \u001B[38;5;167;01mAttributeError\u001B[39;00m(\n\u001B[0;32m    570\u001B[0m         \u001B[38;5;124mf\u001B[39m\u001B[38;5;124m\"\u001B[39m\u001B[38;5;124m'\u001B[39m\u001B[38;5;124m_OpNamespace\u001B[39m\u001B[38;5;124m'\u001B[39m\u001B[38;5;124m \u001B[39m\u001B[38;5;124m'\u001B[39m\u001B[38;5;132;01m{\u001B[39;00m\u001B[38;5;28mself\u001B[39m\u001B[38;5;241m.\u001B[39mname\u001B[38;5;132;01m}\u001B[39;00m\u001B[38;5;124m'\u001B[39m\u001B[38;5;124m object has no attribute \u001B[39m\u001B[38;5;124m'\u001B[39m\u001B[38;5;132;01m{\u001B[39;00mop_name\u001B[38;5;132;01m}\u001B[39;00m\u001B[38;5;124m'\u001B[39m\u001B[38;5;124m\"\u001B[39m\n\u001B[0;32m    571\u001B[0m     ) \u001B[38;5;28;01mfrom\u001B[39;00m \u001B[38;5;21;01me\u001B[39;00m\n\u001B[0;32m    573\u001B[0m \u001B[38;5;66;03m# let the script frontend know that op is identical to the builtin op\u001B[39;00m\n\u001B[0;32m    574\u001B[0m \u001B[38;5;66;03m# with qualified_op_name\u001B[39;00m\n\u001B[0;32m    575\u001B[0m torch\u001B[38;5;241m.\u001B[39mjit\u001B[38;5;241m.\u001B[39m_builtins\u001B[38;5;241m.\u001B[39m_register_builtin(op, qualified_op_name)\n",
      "\u001B[1;31mAttributeError\u001B[0m: '_OpNamespace' 'image' object has no attribute 'read_file'"
     ]
    }
   ],
   "source": [
    "image = read_file(FILE_PATH)\n",
    "visualize(image)"
   ],
   "metadata": {
    "collapsed": false,
    "ExecuteTime": {
     "end_time": "2023-05-15T15:33:08.504720300Z",
     "start_time": "2023-05-15T15:33:07.369221700Z"
    }
   }
  }
 ],
 "metadata": {
  "kernelspec": {
   "display_name": "Python 3",
   "language": "python",
   "name": "python3"
  },
  "language_info": {
   "codemirror_mode": {
    "name": "ipython",
    "version": 2
   },
   "file_extension": ".py",
   "mimetype": "text/x-python",
   "name": "python",
   "nbconvert_exporter": "python",
   "pygments_lexer": "ipython2",
   "version": "2.7.6"
  }
 },
 "nbformat": 4,
 "nbformat_minor": 0
}
