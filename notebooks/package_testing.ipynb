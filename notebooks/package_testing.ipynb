{
 "cells": [
  {
   "attachments": {},
   "cell_type": "markdown",
   "metadata": {},
   "source": [
    "## import packages"
   ]
  },
  {
   "cell_type": "code",
   "execution_count": 2,
   "metadata": {
    "ExecuteTime": {
     "end_time": "2023-05-15T13:45:13.126057700Z",
     "start_time": "2023-05-15T13:45:10.642060200Z"
    }
   },
   "outputs": [
    {
     "name": "stdout",
     "output_type": "stream",
     "text": [
      "torch:  2.1.0.dev20230602\n",
      "torchvision:  0.16.0.dev20230602\n",
      "numpy:  1.24.3\n",
      "albumentations:  1.3.0\n",
      "sacred:  0.8.4\n"
     ]
    }
   ],
   "source": [
    "import torch\n",
    "import torchvision\n",
    "import numpy as np\n",
    "import albumentations as albu\n",
    "import sacred\n",
    "import cv2\n",
    "\n",
    "print(\"torch: \", torch.__version__)\n",
    "print(\"torchvision: \", torchvision.__version__)\n",
    "print(\"numpy: \", np.__version__)\n",
    "print(\"albumentations: \", albu.__version__)\n",
    "print(\"sacred: \", sacred.__version__)"
   ]
  }
 ],
 "metadata": {
  "kernelspec": {
   "display_name": "Python 3",
   "language": "python",
   "name": "python3"
  },
  "language_info": {
   "codemirror_mode": {
    "name": "ipython",
    "version": 3
   },
   "file_extension": ".py",
   "mimetype": "text/x-python",
   "name": "python",
   "nbconvert_exporter": "python",
   "pygments_lexer": "ipython3",
   "version": "3.10.11"
  },
  "orig_nbformat": 4
 },
 "nbformat": 4,
 "nbformat_minor": 2
}
