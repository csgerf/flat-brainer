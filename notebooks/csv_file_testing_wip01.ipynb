{
 "cells": [
  {
   "cell_type": "code",
   "execution_count": 8,
   "metadata": {},
   "outputs": [
    {
     "name": "stdout",
     "output_type": "stream",
     "text": [
      "c:\\MBFDev\\dev\\csgerf\\flat-brainer\n",
      "['c:\\\\MBFDev\\\\dev\\\\csgerf\\\\flat-brainer\\\\notebooks',\n",
      " 'c:\\\\Users\\\\sgerfen\\\\Miniconda3\\\\envs\\\\gvt\\\\python310.zip',\n",
      " 'c:\\\\Users\\\\sgerfen\\\\Miniconda3\\\\envs\\\\gvt\\\\DLLs',\n",
      " 'c:\\\\Users\\\\sgerfen\\\\Miniconda3\\\\envs\\\\gvt\\\\lib',\n",
      " 'c:\\\\Users\\\\sgerfen\\\\Miniconda3\\\\envs\\\\gvt',\n",
      " '',\n",
      " 'C:\\\\Users\\\\sgerfen\\\\AppData\\\\Roaming\\\\Python\\\\Python310\\\\site-packages',\n",
      " 'c:\\\\Users\\\\sgerfen\\\\Miniconda3\\\\envs\\\\gvt\\\\lib\\\\site-packages',\n",
      " 'c:\\\\Users\\\\sgerfen\\\\Miniconda3\\\\envs\\\\gvt\\\\lib\\\\site-packages\\\\win32',\n",
      " 'c:\\\\Users\\\\sgerfen\\\\Miniconda3\\\\envs\\\\gvt\\\\lib\\\\site-packages\\\\win32\\\\lib',\n",
      " 'c:\\\\Users\\\\sgerfen\\\\Miniconda3\\\\envs\\\\gvt\\\\lib\\\\site-packages\\\\Pythonwin',\n",
      " 'c:\\\\MBFDev\\\\dev\\\\csgerf\\\\flat-brainer',\n",
      " 'c:\\\\MBFDev\\\\dev\\\\csgerf\\\\flat-brainer']\n",
      "\n",
      " c:\\MBFDev\\dev\\csgerf\\flat-brainer\n"
     ]
    }
   ],
   "source": [
    "import sys\n",
    "import pprint\n",
    "import os\n",
    "\n",
    "# print(type(sys.path))\n",
    "# sys.path.append(\"../../\")\n",
    "SCRIPT_DIR = os.getcwd()\n",
    "print(os.path.dirname(SCRIPT_DIR))\n",
    "sys.path.append(os.path.dirname(SCRIPT_DIR))\n",
    "\n",
    "os.chdir(os.path.dirname(SCRIPT_DIR))\n",
    "\n",
    "pprint.pprint(sys.path, width=1)\n",
    "\n",
    "\n",
    "print(\"\\n\", os.getcwd())"
   ]
  },
  {
   "cell_type": "code",
   "execution_count": 9,
   "metadata": {},
   "outputs": [],
   "source": [
    "import os\n",
    "from typing import List, Dict, Tuple, Any\n",
    "import time\n",
    "\n",
    "import numpy as np\n",
    "from dotenv import load_dotenv\n",
    "import nrrd\n",
    "import h5py\n",
    "\n",
    "import matplotlib.pyplot as plt\n",
    "from matplotlib.colors import ListedColormap"
   ]
  },
  {
   "cell_type": "code",
   "execution_count": 11,
   "metadata": {},
   "outputs": [
    {
     "ename": "ModuleNotFoundError",
     "evalue": "No module named 'src.core'",
     "output_type": "error",
     "traceback": [
      "\u001b[1;31m---------------------------------------------------------------------------\u001b[0m",
      "\u001b[1;31mModuleNotFoundError\u001b[0m                       Traceback (most recent call last)",
      "Cell \u001b[1;32mIn[11], line 2\u001b[0m\n\u001b[0;32m      1\u001b[0m \u001b[39mimport\u001b[39;00m \u001b[39msrc\u001b[39;00m\n\u001b[1;32m----> 2\u001b[0m \u001b[39mfrom\u001b[39;00m \u001b[39msrc\u001b[39;00m\u001b[39m.\u001b[39;00m\u001b[39mcore\u001b[39;00m\u001b[39m.\u001b[39;00m\u001b[39mutils\u001b[39;00m \u001b[39mimport\u001b[39;00m fs\n\u001b[0;32m      3\u001b[0m \u001b[39mfrom\u001b[39;00m \u001b[39msrc\u001b[39;00m\u001b[39m.\u001b[39;00m\u001b[39mflatmap\u001b[39;00m\u001b[39m.\u001b[39;00m\u001b[39mutils\u001b[39;00m\u001b[39m.\u001b[39;00m\u001b[39mbridge\u001b[39;00m \u001b[39mimport\u001b[39;00m get_boundaries, get_isocortex_3d_projector, get_average_template_projection\n\u001b[0;32m      4\u001b[0m \u001b[39mfrom\u001b[39;00m \u001b[39msrc\u001b[39;00m\u001b[39m.\u001b[39;00m\u001b[39mflatmap\u001b[39;00m\u001b[39m.\u001b[39;00m\u001b[39mutils\u001b[39;00m\u001b[39m.\u001b[39;00m\u001b[39mread_ni_output\u001b[39;00m \u001b[39mimport\u001b[39;00m get_marker_points_from_xml\n",
      "\u001b[1;31mModuleNotFoundError\u001b[0m: No module named 'src.core'"
     ]
    }
   ],
   "source": [
    "import src\n",
    "from src.core.utils import fs\n",
    "from src.flatmap.utils.bridge import get_boundaries, get_isocortex_3d_projector, get_average_template_projection\n",
    "from src.flatmap.utils.read_ni_output import get_marker_points_from_xml\n",
    "from src.flatmap.ccf_streamlines.morphology import transform_coordinates_to_volume\n",
    "from src.flatmap.utils.nb_utils import get_projection_images_from_dict, setup_main_plot, plot_boundaries\n",
    "from src.flatmap.utils.nb_utils import expand_label_image, dilate_image, dilate_binary_image"
   ]
  }
 ],
 "metadata": {
  "kernelspec": {
   "display_name": "gvt",
   "language": "python",
   "name": "python3"
  },
  "language_info": {
   "codemirror_mode": {
    "name": "ipython",
    "version": 3
   },
   "file_extension": ".py",
   "mimetype": "text/x-python",
   "name": "python",
   "nbconvert_exporter": "python",
   "pygments_lexer": "ipython3",
   "version": "3.10.11"
  },
  "orig_nbformat": 4
 },
 "nbformat": 4,
 "nbformat_minor": 2
}
