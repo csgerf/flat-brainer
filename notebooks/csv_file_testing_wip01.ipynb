{
 "cells": [
  {
   "cell_type": "code",
   "execution_count": 1,
   "metadata": {
    "ExecuteTime": {
     "end_time": "2023-06-30T20:26:46.672843700Z",
     "start_time": "2023-06-30T20:26:46.614596Z"
    }
   },
   "outputs": [
    {
     "name": "stdout",
     "output_type": "stream",
     "text": [
      "C:\\dev\\working\\sanboxes\\python\\flat-brainer\n",
      "['C:\\\\dev\\\\working\\\\sanboxes\\\\python\\\\flat-brainer\\\\notebooks',\n",
      " 'C:\\\\dev\\\\working\\\\sanboxes\\\\python\\\\flat-brainer',\n",
      " 'C:\\\\Users\\\\scott\\\\miniconda3\\\\envs\\\\gaze\\\\python310.zip',\n",
      " 'C:\\\\Users\\\\scott\\\\miniconda3\\\\envs\\\\gaze\\\\DLLs',\n",
      " 'C:\\\\Users\\\\scott\\\\miniconda3\\\\envs\\\\gaze\\\\lib',\n",
      " 'C:\\\\Users\\\\scott\\\\miniconda3\\\\envs\\\\gaze',\n",
      " '',\n",
      " 'C:\\\\Users\\\\scott\\\\AppData\\\\Roaming\\\\Python\\\\Python310\\\\site-packages',\n",
      " 'C:\\\\Users\\\\scott\\\\miniconda3\\\\envs\\\\gaze\\\\lib\\\\site-packages',\n",
      " 'C:\\\\Users\\\\scott\\\\miniconda3\\\\envs\\\\gaze\\\\lib\\\\site-packages\\\\win32',\n",
      " 'C:\\\\Users\\\\scott\\\\miniconda3\\\\envs\\\\gaze\\\\lib\\\\site-packages\\\\win32\\\\lib',\n",
      " 'C:\\\\Users\\\\scott\\\\miniconda3\\\\envs\\\\gaze\\\\lib\\\\site-packages\\\\Pythonwin']\n",
      "\n",
      " C:\\dev\\working\\sanboxes\\python\\flat-brainer\\notebooks\n"
     ]
    }
   ],
   "source": [
    "import sys\n",
    "import pprint\n",
    "import os\n",
    "\n",
    "# print(type(sys.path))\n",
    "# sys.path.append(\"../../\")\n",
    "SCRIPT_DIR = os.getcwd()\n",
    "print(os.path.dirname(SCRIPT_DIR))\n",
    "# sys.path.append(os.path.dirname(SCRIPT_DIR))\n",
    "\n",
    "# os.chdir(os.path.dirname(SCRIPT_DIR))\n",
    "\n",
    "pprint.pprint(sys.path, width=1)\n",
    "\n",
    "\n",
    "print(\"\\n\", os.getcwd())"
   ]
  },
  {
   "cell_type": "code",
   "execution_count": 2,
   "metadata": {
    "ExecuteTime": {
     "end_time": "2023-06-30T20:26:47.485788Z",
     "start_time": "2023-06-30T20:26:46.675843700Z"
    }
   },
   "outputs": [],
   "source": [
    "import os\n",
    "from typing import List, Dict, Tuple, Any\n",
    "import time\n",
    "\n",
    "import numpy as np\n",
    "from dotenv import load_dotenv\n",
    "import nrrd\n",
    "import h5py\n",
    "\n",
    "import matplotlib.pyplot as plt\n",
    "from matplotlib.colors import ListedColormap"
   ]
  },
  {
   "cell_type": "code",
   "execution_count": 3,
   "metadata": {
    "ExecuteTime": {
     "end_time": "2023-06-30T20:22:27.966647900Z",
     "start_time": "2023-06-30T20:22:24.717620100Z"
    }
   },
   "outputs": [],
   "source": [
    "import src\n",
    "from src.core.utils import fs\n",
    "from src.flatmap.utils.bridge import get_boundaries, get_isocortex_3d_projector, get_average_template_projection\n",
    "from src.flatmap.utils.read_ni_output import get_marker_points_from_xml\n",
    "from src.flatmap.ccf_streamlines.morphology import transform_coordinates_to_volume\n",
    "from src.flatmap.utils.nb_utils import get_projection_images_from_dict, setup_main_plot, plot_boundaries\n",
    "from src.flatmap.utils.nb_utils import expand_label_image, dilate_image, dilate_binary_image"
   ]
  }
 ],
 "metadata": {
  "kernelspec": {
   "display_name": "gvt",
   "language": "python",
   "name": "python3"
  },
  "language_info": {
   "codemirror_mode": {
    "name": "ipython",
    "version": 3
   },
   "file_extension": ".py",
   "mimetype": "text/x-python",
   "name": "python",
   "nbconvert_exporter": "python",
   "pygments_lexer": "ipython3",
   "version": "3.10.11"
  },
  "orig_nbformat": 4
 },
 "nbformat": 4,
 "nbformat_minor": 2
}
