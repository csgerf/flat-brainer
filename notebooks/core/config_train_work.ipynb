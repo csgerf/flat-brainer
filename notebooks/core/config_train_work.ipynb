{
 "cells": [
  {
   "cell_type": "code",
   "execution_count": 1,
   "metadata": {
    "collapsed": true,
    "ExecuteTime": {
     "end_time": "2023-06-09T12:39:00.793853900Z",
     "start_time": "2023-06-09T12:38:57.562993900Z"
    }
   },
   "outputs": [],
   "source": [
    "import os\n",
    "import numpy as np\n",
    "import pandas as pd\n",
    "from omegaconf import OmegaConf\n",
    "import pprint\n",
    "from sacred import Experiment, Ingredient\n",
    "\n",
    "import torch"
   ]
  },
  {
   "cell_type": "code",
   "execution_count": 2,
   "outputs": [],
   "source": [
    "from src.core.utils.config import *"
   ],
   "metadata": {
    "collapsed": false,
    "ExecuteTime": {
     "end_time": "2023-06-09T12:39:08.845459800Z",
     "start_time": "2023-06-09T12:39:04.510410700Z"
    }
   }
  },
  {
   "cell_type": "code",
   "execution_count": 5,
   "outputs": [],
   "source": [
    "TEST_CONFIG_PATH = \"C:\\dev\\working\\cv-train\\data\\configs\\hubmap\\sample_hubmap_config.yaml\""
   ],
   "metadata": {
    "collapsed": false,
    "ExecuteTime": {
     "end_time": "2023-06-09T12:39:34.787423800Z",
     "start_time": "2023-06-09T12:39:34.640363900Z"
    }
   }
  },
  {
   "cell_type": "markdown",
   "source": [],
   "metadata": {
    "collapsed": false
   }
  },
  {
   "cell_type": "code",
   "execution_count": 6,
   "outputs": [
    {
     "data": {
      "text/plain": "{'optimizer': {'name': 'Adam', 'params': {'lr': 0.01}}, 'scheduler': {'name': 'CosineAnnealingLR', 'params': {'T_max': 50, 'eta_min': 1e-06}}, 'loss': {'name': 'BCEWithLogitsLoss', 'params': {}}, 'model': {'name': 'unet', 'params': {'model_backbone': 'resnet18', 'in_channels': 3, 'num_classes': 1}}, 'dataset': {'name': 'hubmap', 'params': {'name': 'SimpleDataset', 'num_workers': 4}}, 'trainer': None}"
     },
     "execution_count": 6,
     "metadata": {},
     "output_type": "execute_result"
    }
   ],
   "source": [
    "conf = OmegaConf.load(TEST_CONFIG_PATH)\n",
    "schema = OmegaConf.structured(ExperimentConfig)\n",
    "OmegaConf.merge(schema, conf)"
   ],
   "metadata": {
    "collapsed": false,
    "ExecuteTime": {
     "end_time": "2023-06-09T12:39:36.895714500Z",
     "start_time": "2023-06-09T12:39:36.730255600Z"
    }
   }
  },
  {
   "cell_type": "code",
   "execution_count": 7,
   "outputs": [
    {
     "name": "stdout",
     "output_type": "stream",
     "text": [
      "{'model': {'name': 'unet', 'params': {'model_backbone': 'resnet18', 'in_channels': 3, 'num_classes': 1}}, 'optimizer': {'name': 'Adam', 'params': {'lr': 0.01}}, 'scheduler': {'name': 'CosineAnnealingLR', 'params': {'T_max': 50, 'eta_min': 1e-06}}, 'loss': {'name': 'BCEWithLogitsLoss', 'params': {}}, 'dataset': {'name': 'hubmap', 'params': {'name': 'SimpleDataset', 'num_workers': 4}}}\n"
     ]
    }
   ],
   "source": [
    "pprint.PrettyPrinter(indent=2).pprint(conf)"
   ],
   "metadata": {
    "collapsed": false,
    "ExecuteTime": {
     "end_time": "2023-06-09T12:39:54.352921Z",
     "start_time": "2023-06-09T12:39:54.202852300Z"
    }
   }
  },
  {
   "cell_type": "code",
   "execution_count": 9,
   "outputs": [
    {
     "name": "stdout",
     "output_type": "stream",
     "text": [
      "unet\n"
     ]
    }
   ],
   "source": [
    "model_name = conf.model.get(\"name\", \"ResNet18\")\n",
    "print(model_name)"
   ],
   "metadata": {
    "collapsed": false,
    "ExecuteTime": {
     "end_time": "2023-06-09T12:40:38.097167500Z",
     "start_time": "2023-06-09T12:40:37.953144700Z"
    }
   }
  },
  {
   "cell_type": "code",
   "execution_count": 15,
   "outputs": [
    {
     "name": "stdout",
     "output_type": "stream",
     "text": [
      "{ 'name': 'unet',\n",
      "  'params': {'in_channels': 3, 'model_backbone': 'resnet18', 'num_classes': 1}}\n"
     ]
    }
   ],
   "source": [
    "model_config = OmegaConf.to_object(conf.model)\n",
    "pprint.PrettyPrinter(indent=2).pprint(model_config)"
   ],
   "metadata": {
    "collapsed": false,
    "ExecuteTime": {
     "end_time": "2023-06-09T13:29:03.655768900Z",
     "start_time": "2023-06-09T13:29:03.513507200Z"
    }
   }
  },
  {
   "cell_type": "code",
   "execution_count": 18,
   "outputs": [
    {
     "name": "stdout",
     "output_type": "stream",
     "text": [
      "{ 'dataset': { 'name': 'hubmap',\n",
      "               'params': {'name': 'SimpleDataset', 'num_workers': 4}},\n",
      "  'loss': {'name': 'BCEWithLogitsLoss', 'params': {}},\n",
      "  'model': { 'name': 'unet',\n",
      "             'params': { 'in_channels': 3,\n",
      "                         'model_backbone': 'resnet18',\n",
      "                         'num_classes': 1}},\n",
      "  'optimizer': {'name': 'Adam', 'params': {'lr': 0.01}},\n",
      "  'scheduler': { 'name': 'CosineAnnealingLR',\n",
      "                 'params': {'T_max': 50, 'eta_min': 1e-06}}}\n"
     ]
    }
   ],
   "source": [
    "config_dict = OmegaConf.to_container(conf)\n",
    "pprint.PrettyPrinter(indent=2).pprint(config_dict)\n",
    "conf_converted_back = OmegaConf.create(config_dict)"
   ],
   "metadata": {
    "collapsed": false,
    "ExecuteTime": {
     "end_time": "2023-06-09T14:08:44.409925100Z",
     "start_time": "2023-06-09T14:08:44.257750Z"
    }
   }
  },
  {
   "cell_type": "code",
   "execution_count": 13,
   "outputs": [],
   "source": [
    "param_dict = model_config.get(\"params\", {})\n",
    "param_dict = OmegaConf.to_container(param_dict)"
   ],
   "metadata": {
    "collapsed": false,
    "ExecuteTime": {
     "end_time": "2023-06-09T13:28:00.025443900Z",
     "start_time": "2023-06-09T13:27:59.871476200Z"
    }
   }
  },
  {
   "cell_type": "code",
   "execution_count": null,
   "outputs": [],
   "source": [],
   "metadata": {
    "collapsed": false
   }
  },
  {
   "cell_type": "code",
   "execution_count": 17,
   "outputs": [],
   "source": [
    "optimizer = OptimizerConfig(name='Adam', params={'lr': 0.001, 'weight_decay': 0.0005})\n",
    "scheduler = SchedulerConfig(name='StepLR', params={'step_size': 30, 'gamma': 0.1})\n",
    "loss = LossConfig(name='CrossEntropyLoss', params={})\n",
    "model = ModelConfig(name='ResNet18', params={\"pretrained\": True})\n",
    "dataset = DatasetConfig(name='CIFAR10', params={})\n",
    "# trainer = TrainerConfig(name='Trainer', params={\"batch_size\": 36, \"num_epochs\": 100, \"num_workers\": 4, \"device\": \"cuda\"})\n"
   ],
   "metadata": {
    "collapsed": false,
    "ExecuteTime": {
     "end_time": "2023-06-09T13:29:28.512720500Z",
     "start_time": "2023-06-09T13:29:28.367671800Z"
    }
   }
  },
  {
   "cell_type": "code",
   "execution_count": 20,
   "outputs": [],
   "source": [
    "conf = OmegaConf.load(TEST_CONFIG_PATH)\n",
    "schema = OmegaConf.structured(ExperimentConfig)"
   ],
   "metadata": {
    "collapsed": false,
    "ExecuteTime": {
     "end_time": "2023-05-22T15:29:22.791106600Z",
     "start_time": "2023-05-22T15:29:22.542106300Z"
    }
   }
  },
  {
   "cell_type": "code",
   "execution_count": null,
   "outputs": [],
   "source": [
    "conf = OmegaConf.merge(schema, conf)"
   ],
   "metadata": {
    "collapsed": false
   }
  },
  {
   "cell_type": "code",
   "execution_count": 23,
   "outputs": [],
   "source": [
    "default_test_experiment=ExperimentConfig(\n",
    "    optimizer=optimizer,\n",
    "    scheduler=scheduler,\n",
    "    loss=loss,\n",
    "    model=model,\n",
    "    dataset=dataset,\n",
    "    trainer=trainer\n",
    ")"
   ],
   "metadata": {
    "collapsed": false,
    "ExecuteTime": {
     "end_time": "2023-05-22T15:33:56.679269600Z",
     "start_time": "2023-05-22T15:33:56.533270400Z"
    }
   }
  },
  {
   "cell_type": "code",
   "execution_count": 24,
   "outputs": [],
   "source": [
    "schema = OmegaConf.structured(default_test_experiment)\n",
    "conf = OmegaConf.load(TEST_CONFIG_PATH)\n",
    "conf = OmegaConf.merge(schema, conf)"
   ],
   "metadata": {
    "collapsed": false,
    "ExecuteTime": {
     "end_time": "2023-05-22T15:34:44.385177600Z",
     "start_time": "2023-05-22T15:34:44.191174600Z"
    }
   }
  },
  {
   "cell_type": "code",
   "execution_count": 22,
   "outputs": [
    {
     "ename": "ValidationError",
     "evalue": "Merge error: SchedulerConfig is not a subclass of OptimizerConfig. value: {'name': 'StepLR', 'params': {'step_size': 30, 'gamma': 0.1}}\n    full_key: \n    object_type=OptimizerConfig",
     "output_type": "error",
     "traceback": [
      "\u001B[1;31m---------------------------------------------------------------------------\u001B[0m",
      "\u001B[1;31mValidationError\u001B[0m                           Traceback (most recent call last)",
      "Cell \u001B[1;32mIn[22], line 2\u001B[0m\n\u001B[0;32m      1\u001B[0m conf \u001B[38;5;241m=\u001B[39m OmegaConf\u001B[38;5;241m.\u001B[39mmerge(conf, optimizer)\n\u001B[1;32m----> 2\u001B[0m conf \u001B[38;5;241m=\u001B[39m \u001B[43mOmegaConf\u001B[49m\u001B[38;5;241;43m.\u001B[39;49m\u001B[43mmerge\u001B[49m\u001B[43m(\u001B[49m\u001B[43mconf\u001B[49m\u001B[43m,\u001B[49m\u001B[43m \u001B[49m\u001B[43mscheduler\u001B[49m\u001B[43m)\u001B[49m\n\u001B[0;32m      3\u001B[0m conf \u001B[38;5;241m=\u001B[39m OmegaConf\u001B[38;5;241m.\u001B[39mmerge(conf, loss)\n\u001B[0;32m      4\u001B[0m conf \u001B[38;5;241m=\u001B[39m OmegaConf\u001B[38;5;241m.\u001B[39mmerge(conf, model)\n",
      "File \u001B[1;32m~\\miniconda3\\envs\\spoon\\lib\\site-packages\\omegaconf\\omegaconf.py:273\u001B[0m, in \u001B[0;36mOmegaConf.merge\u001B[1;34m(*configs)\u001B[0m\n\u001B[0;32m    270\u001B[0m \u001B[38;5;28;01massert\u001B[39;00m \u001B[38;5;28misinstance\u001B[39m(target, (DictConfig, ListConfig))\n\u001B[0;32m    272\u001B[0m \u001B[38;5;28;01mwith\u001B[39;00m flag_override(target, \u001B[38;5;124m\"\u001B[39m\u001B[38;5;124mreadonly\u001B[39m\u001B[38;5;124m\"\u001B[39m, \u001B[38;5;28;01mFalse\u001B[39;00m):\n\u001B[1;32m--> 273\u001B[0m     \u001B[43mtarget\u001B[49m\u001B[38;5;241;43m.\u001B[39;49m\u001B[43mmerge_with\u001B[49m\u001B[43m(\u001B[49m\u001B[38;5;241;43m*\u001B[39;49m\u001B[43mconfigs\u001B[49m\u001B[43m[\u001B[49m\u001B[38;5;241;43m1\u001B[39;49m\u001B[43m:\u001B[49m\u001B[43m]\u001B[49m\u001B[43m)\u001B[49m\n\u001B[0;32m    274\u001B[0m     turned_readonly \u001B[38;5;241m=\u001B[39m target\u001B[38;5;241m.\u001B[39m_get_flag(\u001B[38;5;124m\"\u001B[39m\u001B[38;5;124mreadonly\u001B[39m\u001B[38;5;124m\"\u001B[39m) \u001B[38;5;129;01mis\u001B[39;00m \u001B[38;5;28;01mTrue\u001B[39;00m\n\u001B[0;32m    276\u001B[0m \u001B[38;5;28;01mif\u001B[39;00m turned_readonly:\n",
      "File \u001B[1;32m~\\miniconda3\\envs\\spoon\\lib\\site-packages\\omegaconf\\basecontainer.py:492\u001B[0m, in \u001B[0;36mBaseContainer.merge_with\u001B[1;34m(self, *others)\u001B[0m\n\u001B[0;32m    490\u001B[0m     \u001B[38;5;28mself\u001B[39m\u001B[38;5;241m.\u001B[39m_merge_with(\u001B[38;5;241m*\u001B[39mothers)\n\u001B[0;32m    491\u001B[0m \u001B[38;5;28;01mexcept\u001B[39;00m \u001B[38;5;167;01mException\u001B[39;00m \u001B[38;5;28;01mas\u001B[39;00m e:\n\u001B[1;32m--> 492\u001B[0m     \u001B[38;5;28;43mself\u001B[39;49m\u001B[38;5;241;43m.\u001B[39;49m\u001B[43m_format_and_raise\u001B[49m\u001B[43m(\u001B[49m\u001B[43mkey\u001B[49m\u001B[38;5;241;43m=\u001B[39;49m\u001B[38;5;28;43;01mNone\u001B[39;49;00m\u001B[43m,\u001B[49m\u001B[43m \u001B[49m\u001B[43mvalue\u001B[49m\u001B[38;5;241;43m=\u001B[39;49m\u001B[38;5;28;43;01mNone\u001B[39;49;00m\u001B[43m,\u001B[49m\u001B[43m \u001B[49m\u001B[43mcause\u001B[49m\u001B[38;5;241;43m=\u001B[39;49m\u001B[43me\u001B[49m\u001B[43m)\u001B[49m\n",
      "File \u001B[1;32m~\\miniconda3\\envs\\spoon\\lib\\site-packages\\omegaconf\\base.py:231\u001B[0m, in \u001B[0;36mNode._format_and_raise\u001B[1;34m(self, key, value, cause, msg, type_override)\u001B[0m\n\u001B[0;32m    223\u001B[0m \u001B[38;5;28;01mdef\u001B[39;00m \u001B[38;5;21m_format_and_raise\u001B[39m(\n\u001B[0;32m    224\u001B[0m     \u001B[38;5;28mself\u001B[39m,\n\u001B[0;32m    225\u001B[0m     key: Any,\n\u001B[1;32m   (...)\u001B[0m\n\u001B[0;32m    229\u001B[0m     type_override: Any \u001B[38;5;241m=\u001B[39m \u001B[38;5;28;01mNone\u001B[39;00m,\n\u001B[0;32m    230\u001B[0m ) \u001B[38;5;241m-\u001B[39m\u001B[38;5;241m>\u001B[39m \u001B[38;5;28;01mNone\u001B[39;00m:\n\u001B[1;32m--> 231\u001B[0m     \u001B[43mformat_and_raise\u001B[49m\u001B[43m(\u001B[49m\n\u001B[0;32m    232\u001B[0m \u001B[43m        \u001B[49m\u001B[43mnode\u001B[49m\u001B[38;5;241;43m=\u001B[39;49m\u001B[38;5;28;43mself\u001B[39;49m\u001B[43m,\u001B[49m\n\u001B[0;32m    233\u001B[0m \u001B[43m        \u001B[49m\u001B[43mkey\u001B[49m\u001B[38;5;241;43m=\u001B[39;49m\u001B[43mkey\u001B[49m\u001B[43m,\u001B[49m\n\u001B[0;32m    234\u001B[0m \u001B[43m        \u001B[49m\u001B[43mvalue\u001B[49m\u001B[38;5;241;43m=\u001B[39;49m\u001B[43mvalue\u001B[49m\u001B[43m,\u001B[49m\n\u001B[0;32m    235\u001B[0m \u001B[43m        \u001B[49m\u001B[43mmsg\u001B[49m\u001B[38;5;241;43m=\u001B[39;49m\u001B[38;5;28;43mstr\u001B[39;49m\u001B[43m(\u001B[49m\u001B[43mcause\u001B[49m\u001B[43m)\u001B[49m\u001B[43m \u001B[49m\u001B[38;5;28;43;01mif\u001B[39;49;00m\u001B[43m \u001B[49m\u001B[43mmsg\u001B[49m\u001B[43m \u001B[49m\u001B[38;5;129;43;01mis\u001B[39;49;00m\u001B[43m \u001B[49m\u001B[38;5;28;43;01mNone\u001B[39;49;00m\u001B[43m \u001B[49m\u001B[38;5;28;43;01melse\u001B[39;49;00m\u001B[43m \u001B[49m\u001B[43mmsg\u001B[49m\u001B[43m,\u001B[49m\n\u001B[0;32m    236\u001B[0m \u001B[43m        \u001B[49m\u001B[43mcause\u001B[49m\u001B[38;5;241;43m=\u001B[39;49m\u001B[43mcause\u001B[49m\u001B[43m,\u001B[49m\n\u001B[0;32m    237\u001B[0m \u001B[43m        \u001B[49m\u001B[43mtype_override\u001B[49m\u001B[38;5;241;43m=\u001B[39;49m\u001B[43mtype_override\u001B[49m\u001B[43m,\u001B[49m\n\u001B[0;32m    238\u001B[0m \u001B[43m    \u001B[49m\u001B[43m)\u001B[49m\n\u001B[0;32m    239\u001B[0m     \u001B[38;5;28;01massert\u001B[39;00m \u001B[38;5;28;01mFalse\u001B[39;00m\n",
      "File \u001B[1;32m~\\miniconda3\\envs\\spoon\\lib\\site-packages\\omegaconf\\_utils.py:899\u001B[0m, in \u001B[0;36mformat_and_raise\u001B[1;34m(node, key, value, msg, cause, type_override)\u001B[0m\n\u001B[0;32m    896\u001B[0m     ex\u001B[38;5;241m.\u001B[39mref_type \u001B[38;5;241m=\u001B[39m ref_type\n\u001B[0;32m    897\u001B[0m     ex\u001B[38;5;241m.\u001B[39mref_type_str \u001B[38;5;241m=\u001B[39m ref_type_str\n\u001B[1;32m--> 899\u001B[0m \u001B[43m_raise\u001B[49m\u001B[43m(\u001B[49m\u001B[43mex\u001B[49m\u001B[43m,\u001B[49m\u001B[43m \u001B[49m\u001B[43mcause\u001B[49m\u001B[43m)\u001B[49m\n",
      "File \u001B[1;32m~\\miniconda3\\envs\\spoon\\lib\\site-packages\\omegaconf\\_utils.py:797\u001B[0m, in \u001B[0;36m_raise\u001B[1;34m(ex, cause)\u001B[0m\n\u001B[0;32m    795\u001B[0m \u001B[38;5;28;01melse\u001B[39;00m:\n\u001B[0;32m    796\u001B[0m     ex\u001B[38;5;241m.\u001B[39m__cause__ \u001B[38;5;241m=\u001B[39m \u001B[38;5;28;01mNone\u001B[39;00m\n\u001B[1;32m--> 797\u001B[0m \u001B[38;5;28;01mraise\u001B[39;00m ex\u001B[38;5;241m.\u001B[39mwith_traceback(sys\u001B[38;5;241m.\u001B[39mexc_info()[\u001B[38;5;241m2\u001B[39m])\n",
      "File \u001B[1;32m~\\miniconda3\\envs\\spoon\\lib\\site-packages\\omegaconf\\basecontainer.py:490\u001B[0m, in \u001B[0;36mBaseContainer.merge_with\u001B[1;34m(self, *others)\u001B[0m\n\u001B[0;32m    483\u001B[0m \u001B[38;5;28;01mdef\u001B[39;00m \u001B[38;5;21mmerge_with\u001B[39m(\n\u001B[0;32m    484\u001B[0m     \u001B[38;5;28mself\u001B[39m,\n\u001B[0;32m    485\u001B[0m     \u001B[38;5;241m*\u001B[39mothers: Union[\n\u001B[0;32m    486\u001B[0m         \u001B[38;5;124m\"\u001B[39m\u001B[38;5;124mBaseContainer\u001B[39m\u001B[38;5;124m\"\u001B[39m, Dict[\u001B[38;5;28mstr\u001B[39m, Any], List[Any], Tuple[Any, \u001B[38;5;241m.\u001B[39m\u001B[38;5;241m.\u001B[39m\u001B[38;5;241m.\u001B[39m], Any\n\u001B[0;32m    487\u001B[0m     ],\n\u001B[0;32m    488\u001B[0m ) \u001B[38;5;241m-\u001B[39m\u001B[38;5;241m>\u001B[39m \u001B[38;5;28;01mNone\u001B[39;00m:\n\u001B[0;32m    489\u001B[0m     \u001B[38;5;28;01mtry\u001B[39;00m:\n\u001B[1;32m--> 490\u001B[0m         \u001B[38;5;28;43mself\u001B[39;49m\u001B[38;5;241;43m.\u001B[39;49m\u001B[43m_merge_with\u001B[49m\u001B[43m(\u001B[49m\u001B[38;5;241;43m*\u001B[39;49m\u001B[43mothers\u001B[49m\u001B[43m)\u001B[49m\n\u001B[0;32m    491\u001B[0m     \u001B[38;5;28;01mexcept\u001B[39;00m \u001B[38;5;167;01mException\u001B[39;00m \u001B[38;5;28;01mas\u001B[39;00m e:\n\u001B[0;32m    492\u001B[0m         \u001B[38;5;28mself\u001B[39m\u001B[38;5;241m.\u001B[39m_format_and_raise(key\u001B[38;5;241m=\u001B[39m\u001B[38;5;28;01mNone\u001B[39;00m, value\u001B[38;5;241m=\u001B[39m\u001B[38;5;28;01mNone\u001B[39;00m, cause\u001B[38;5;241m=\u001B[39me)\n",
      "File \u001B[1;32m~\\miniconda3\\envs\\spoon\\lib\\site-packages\\omegaconf\\basecontainer.py:514\u001B[0m, in \u001B[0;36mBaseContainer._merge_with\u001B[1;34m(self, *others)\u001B[0m\n\u001B[0;32m    511\u001B[0m other \u001B[38;5;241m=\u001B[39m _ensure_container(other, flags\u001B[38;5;241m=\u001B[39mmy_flags)\n\u001B[0;32m    513\u001B[0m \u001B[38;5;28;01mif\u001B[39;00m \u001B[38;5;28misinstance\u001B[39m(\u001B[38;5;28mself\u001B[39m, DictConfig) \u001B[38;5;129;01mand\u001B[39;00m \u001B[38;5;28misinstance\u001B[39m(other, DictConfig):\n\u001B[1;32m--> 514\u001B[0m     \u001B[43mBaseContainer\u001B[49m\u001B[38;5;241;43m.\u001B[39;49m\u001B[43m_map_merge\u001B[49m\u001B[43m(\u001B[49m\u001B[38;5;28;43mself\u001B[39;49m\u001B[43m,\u001B[49m\u001B[43m \u001B[49m\u001B[43mother\u001B[49m\u001B[43m)\u001B[49m\n\u001B[0;32m    515\u001B[0m \u001B[38;5;28;01melif\u001B[39;00m \u001B[38;5;28misinstance\u001B[39m(\u001B[38;5;28mself\u001B[39m, ListConfig) \u001B[38;5;129;01mand\u001B[39;00m \u001B[38;5;28misinstance\u001B[39m(other, ListConfig):\n\u001B[0;32m    516\u001B[0m     BaseContainer\u001B[38;5;241m.\u001B[39m_list_merge(\u001B[38;5;28mself\u001B[39m, other)\n",
      "File \u001B[1;32m~\\miniconda3\\envs\\spoon\\lib\\site-packages\\omegaconf\\basecontainer.py:325\u001B[0m, in \u001B[0;36mBaseContainer._map_merge\u001B[1;34m(dest, src)\u001B[0m\n\u001B[0;32m    322\u001B[0m     _update_types(node\u001B[38;5;241m=\u001B[39mdest, ref_type\u001B[38;5;241m=\u001B[39msrc_ref_type, object_type\u001B[38;5;241m=\u001B[39msrc_type)\n\u001B[0;32m    323\u001B[0m     \u001B[38;5;28;01mreturn\u001B[39;00m\n\u001B[1;32m--> 325\u001B[0m \u001B[43mdest\u001B[49m\u001B[38;5;241;43m.\u001B[39;49m\u001B[43m_validate_merge\u001B[49m\u001B[43m(\u001B[49m\u001B[43mvalue\u001B[49m\u001B[38;5;241;43m=\u001B[39;49m\u001B[43msrc\u001B[49m\u001B[43m)\u001B[49m\n\u001B[0;32m    327\u001B[0m \u001B[38;5;28;01mdef\u001B[39;00m \u001B[38;5;21mexpand\u001B[39m(node: Container) \u001B[38;5;241m-\u001B[39m\u001B[38;5;241m>\u001B[39m \u001B[38;5;28;01mNone\u001B[39;00m:\n\u001B[0;32m    328\u001B[0m     rt \u001B[38;5;241m=\u001B[39m node\u001B[38;5;241m.\u001B[39m_metadata\u001B[38;5;241m.\u001B[39mref_type\n",
      "File \u001B[1;32m~\\miniconda3\\envs\\spoon\\lib\\site-packages\\omegaconf\\dictconfig.py:239\u001B[0m, in \u001B[0;36mDictConfig._validate_merge\u001B[1;34m(self, value)\u001B[0m\n\u001B[0;32m    234\u001B[0m \u001B[38;5;28;01mif\u001B[39;00m validation_error:\n\u001B[0;32m    235\u001B[0m     msg \u001B[38;5;241m=\u001B[39m (\n\u001B[0;32m    236\u001B[0m         \u001B[38;5;124mf\u001B[39m\u001B[38;5;124m\"\u001B[39m\u001B[38;5;124mMerge error: \u001B[39m\u001B[38;5;132;01m{\u001B[39;00mtype_str(src_obj_type)\u001B[38;5;132;01m}\u001B[39;00m\u001B[38;5;124m is not a \u001B[39m\u001B[38;5;124m\"\u001B[39m\n\u001B[0;32m    237\u001B[0m         \u001B[38;5;124mf\u001B[39m\u001B[38;5;124m\"\u001B[39m\u001B[38;5;124msubclass of \u001B[39m\u001B[38;5;132;01m{\u001B[39;00mtype_str(dest_obj_type)\u001B[38;5;132;01m}\u001B[39;00m\u001B[38;5;124m. value: \u001B[39m\u001B[38;5;132;01m{\u001B[39;00msrc\u001B[38;5;132;01m}\u001B[39;00m\u001B[38;5;124m\"\u001B[39m\n\u001B[0;32m    238\u001B[0m     )\n\u001B[1;32m--> 239\u001B[0m     \u001B[38;5;28;01mraise\u001B[39;00m ValidationError(msg)\n",
      "\u001B[1;31mValidationError\u001B[0m: Merge error: SchedulerConfig is not a subclass of OptimizerConfig. value: {'name': 'StepLR', 'params': {'step_size': 30, 'gamma': 0.1}}\n    full_key: \n    object_type=OptimizerConfig"
     ]
    }
   ],
   "source": [
    "conf = OmegaConf.merge(conf, optimizer)\n",
    "conf = OmegaConf.merge(conf, scheduler)\n",
    "conf = OmegaConf.merge(conf, loss)\n",
    "conf = OmegaConf.merge(conf, model)\n",
    "conf = OmegaConf.merge(conf, trainer)"
   ],
   "metadata": {
    "collapsed": false,
    "ExecuteTime": {
     "end_time": "2023-05-22T15:31:27.665261700Z",
     "start_time": "2023-05-22T15:31:27.069763Z"
    }
   }
  },
  {
   "cell_type": "code",
   "execution_count": 31,
   "outputs": [],
   "source": [
    "class TinyModel(torch.nn.Module):\n",
    "\n",
    "    def __init__(self, **_):\n",
    "        super(TinyModel, self).__init__()\n",
    "\n",
    "        self.linear1 = torch.nn.Linear(100, 200)\n",
    "        self.activation = torch.nn.ReLU()\n",
    "        self.linear2 = torch.nn.Linear(200, 10)\n",
    "        self.softmax = torch.nn.Softmax()\n",
    "\n",
    "    def forward(self, x):\n",
    "        x = self.linear1(x)\n",
    "        x = self.activation(x)\n",
    "        x = self.linear2(x)\n",
    "        x = self.softmax(x)\n",
    "        return x\n"
   ],
   "metadata": {
    "collapsed": false,
    "ExecuteTime": {
     "end_time": "2023-05-23T09:37:11.195825900Z",
     "start_time": "2023-05-23T09:37:02.164326700Z"
    }
   }
  },
  {
   "cell_type": "code",
   "execution_count": 32,
   "outputs": [],
   "source": [
    "model = TinyModel()\n",
    "adam_optimizer = torch.optim.Adam(model.parameters(), lr=0.001, weight_decay=0.0005)"
   ],
   "metadata": {
    "collapsed": false,
    "ExecuteTime": {
     "end_time": "2023-05-23T09:37:12.511826900Z",
     "start_time": "2023-05-23T09:37:12.116331700Z"
    }
   }
  },
  {
   "cell_type": "code",
   "execution_count": 33,
   "outputs": [],
   "source": [
    "step_lr_scheduler = torch.optim.lr_scheduler.StepLR(adam_optimizer, step_size=30, gamma=0.1)"
   ],
   "metadata": {
    "collapsed": false,
    "ExecuteTime": {
     "end_time": "2023-05-23T09:37:42.250827200Z",
     "start_time": "2023-05-23T09:37:41.805828700Z"
    }
   }
  },
  {
   "cell_type": "code",
   "execution_count": 34,
   "outputs": [
    {
     "name": "stdout",
     "output_type": "stream",
     "text": [
      "{'ASGD': ['params', 'lr', 'lambd', 'alpha', 't0', 'weight_decay', 'foreach', 'maximize', 'differentiable'], 'Adadelta': ['params', 'lr', 'rho', 'eps', 'weight_decay', 'foreach', 'maximize', 'differentiable'], 'Adagrad': ['params', 'lr', 'lr_decay', 'weight_decay', 'initial_accumulator_value', 'eps', 'foreach', 'maximize', 'differentiable'], 'Adam': ['params', 'lr', 'betas', 'eps', 'weight_decay', 'amsgrad', 'foreach', 'maximize', 'capturable', 'differentiable', 'fused'], 'AdamW': ['params', 'lr', 'betas', 'eps', 'weight_decay', 'amsgrad', 'maximize', 'foreach', 'capturable', 'differentiable', 'fused'], 'Adamax': ['params', 'lr', 'betas', 'eps', 'weight_decay', 'foreach', 'maximize', 'differentiable'], 'LBFGS': ['params', 'lr', 'max_iter', 'max_eval', 'tolerance_grad', 'tolerance_change', 'history_size', 'line_search_fn'], 'NAdam': ['params', 'lr', 'betas', 'eps', 'weight_decay', 'momentum_decay', 'foreach', 'differentiable'], 'Optimizer': ['params', 'defaults'], 'RAdam': ['params', 'lr', 'betas', 'eps', 'weight_decay', 'foreach', 'differentiable'], 'RMSprop': ['params', 'lr', 'alpha', 'eps', 'weight_decay', 'momentum', 'centered', 'foreach', 'maximize', 'differentiable'], 'Rprop': ['params', 'lr', 'etas', 'step_sizes', 'foreach', 'maximize', 'differentiable'], 'SGD': ['params', 'lr', 'momentum', 'dampening', 'weight_decay', 'nesterov', 'maximize', 'foreach', 'differentiable'], 'SparseAdam': ['params', 'lr', 'betas', 'eps', 'maximize']}\n"
     ]
    }
   ],
   "source": [
    "import inspect\n",
    "import torch.optim as optim\n",
    "\n",
    "optimizers = {}\n",
    "\n",
    "for name, obj in inspect.getmembers(optim):\n",
    "    if inspect.isclass(obj):\n",
    "        args = inspect.signature(obj).parameters.keys()\n",
    "        optimizers[name] = list(args)\n",
    "\n",
    "print(optimizers)"
   ],
   "metadata": {
    "collapsed": false,
    "ExecuteTime": {
     "end_time": "2023-05-23T21:27:12.599938800Z",
     "start_time": "2023-05-23T21:27:12.374444800Z"
    }
   }
  }
 ],
 "metadata": {
  "kernelspec": {
   "display_name": "Python 3",
   "language": "python",
   "name": "python3"
  },
  "language_info": {
   "codemirror_mode": {
    "name": "ipython",
    "version": 2
   },
   "file_extension": ".py",
   "mimetype": "text/x-python",
   "name": "python",
   "nbconvert_exporter": "python",
   "pygments_lexer": "ipython2",
   "version": "2.7.6"
  }
 },
 "nbformat": 4,
 "nbformat_minor": 0
}
